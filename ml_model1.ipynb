{
 "cells": [
  {
   "cell_type": "code",
   "execution_count": 2,
   "metadata": {},
   "outputs": [],
   "source": [
    "import pandas as pd"
   ]
  },
  {
   "cell_type": "code",
   "execution_count": 3,
   "metadata": {},
   "outputs": [],
   "source": [
    "indian_food_data = pd.read_csv('indian_food_data.csv')\n",
    "indian_food = pd.read_csv('indian_food.csv')\n",
    "karnataka_prices = pd.read_csv('karnataka_vegetables.csv')"
   ]
  },
  {
   "cell_type": "code",
   "execution_count": null,
   "metadata": {},
   "outputs": [
    {
     "name": "stdout",
     "output_type": "stream",
     "text": [
      "['Diabetic Friendly' 'Vegetarian' 'High Protein Vegetarian'\n",
      " 'Non Vegeterian' 'High Protein Non Vegetarian' 'Eggetarian' 'Vegan'\n",
      " 'No Onion No Garlic (Sattvic)' 'Gluten Free' 'Sugar Free Diet']\n"
     ]
    }
   ],
   "source": [
    "unique_diet_types = indian_food_data['Diet'].unique()\n",
    "print(unique_diet_types)"
   ]
  },
  {
   "cell_type": "code",
   "execution_count": 13,
   "metadata": {},
   "outputs": [
    {
     "name": "stdout",
     "output_type": "stream",
     "text": [
      "[{'name': 'Gajar ka halwa', 'ingredients': 'Carrots, milk, sugar, ghee, cashews, raisins', 'price': 0}, {'name': 'Jalebi', 'ingredients': 'Maida, corn flour, baking soda, vinegar, curd, water, turmeric, saffron, cardamom', 'price': 0}, {'name': 'Lassi', 'ingredients': 'Yogurt, milk, nuts, sugar', 'price': 0}, {'name': 'Petha', 'ingredients': 'Firm white pumpkin, sugar, kitchen lime, alum powder', 'price': 0}, {'name': 'Rabri', 'ingredients': 'Condensed milk, sugar, spices, nuts', 'price': 0}, {'name': 'Sohan halwa', 'ingredients': 'Corn flour, ghee, dry fruits', 'price': 0}, {'name': 'Malapua', 'ingredients': 'Yoghurt, refined flour, ghee, fennel seeds', 'price': 0}, {'name': 'Bhatura', 'ingredients': 'Chole, rava, yogurt, plain flour, baking soda', 'price': 0}, {'name': 'Chole bhature', 'ingredients': 'Chole, bhatura, garam masala, bay leaf, cinnamon stick', 'price': 0}, {'name': 'Dal makhani ', 'ingredients': 'Red kidney beans, urad dal, cream, garam masala, chili powder', 'price': 0}, {'name': 'Dum aloo', 'ingredients': 'Baby potatoes, garam masala, cashew nuts, kasuri methi, tomatoes', 'price': 0}, {'name': 'Kachori', 'ingredients': 'Moong dal, rava, garam masala, dough, fennel seeds', 'price': 0}, {'name': 'Kadai paneer', 'ingredients': 'Cottage cheese, bell peppers, gravy, garam masala, cashew nuts', 'price': 0}, {'name': 'Misi roti', 'ingredients': 'Whole wheat flour, chickpea flour, green chilies', 'price': 0}, {'name': 'Mushroom matar', 'ingredients': 'Canned coconut milk, frozen green peas, wild mushrooms, garam masala, tomatoes', 'price': 0}, {'name': 'Navrattan korma', 'ingredients': 'Green beans, potatoes, khus khus, low fat, garam masala powder', 'price': 0}, {'name': 'Palak paneer', 'ingredients': 'Cottage cheese, palak, cream, garam masala, butter', 'price': 0}, {'name': 'Paneer butter masala', 'ingredients': 'Paneer, whipping cream, garam masala, cashew nuts, butter', 'price': 0}, {'name': 'Paneer tikka masala', 'ingredients': 'Paneer, greek yogurt, tandoori masala, cream, bell pepper', 'price': 0}, {'name': 'Sattu ki roti', 'ingredients': 'Sattu, atta, dough, filling, mustard oil', 'price': 0}, {'name': 'Shufta', 'ingredients': 'Cottage cheese, dry dates, dried rose petals, pistachio, badam', 'price': 0}]\n"
     ]
    }
   ],
   "source": [
    "# Function to estimate the price of ingredients\n",
    "def estimate_price(ingredients, price_data):\n",
    "    total_price = 0\n",
    "    for ingredient in ingredients.split(','):\n",
    "        ingredient = ingredient.strip().lower()\n",
    "        price_row = price_data[price_data['Vegetable'].str.lower() == ingredient]\n",
    "        if not price_row.empty:\n",
    "            total_price += price_row['Retail Price'].values[0]\n",
    "    return total_price\n",
    "\n",
    "# Function to suggest food items based on user input\n",
    "def suggest_food(budget, diet_preference, region):\n",
    "    #budget = budget * 100  # Convert budget to match price scale\n",
    "    filtered_food = indian_food[(indian_food['diet'] == diet_preference) & (indian_food['region'] == region)]\n",
    "    \n",
    "    food_suggestions = []\n",
    "    \n",
    "    for _, row in filtered_food.iterrows():\n",
    "        food_name = row['name']\n",
    "        ingredients = row['ingredients']\n",
    "        estimated_price = estimate_price(ingredients, karnataka_prices)\n",
    "        \n",
    "        if estimated_price <= budget:\n",
    "            food_details = {\n",
    "                'name': food_name,\n",
    "                'ingredients': ingredients,\n",
    "                'price': estimated_price,\n",
    "            }\n",
    "            food_suggestions.append(food_details)\n",
    "    \n",
    "    return food_suggestions\n",
    "\n",
    "# Example usage\n",
    "budget = 10  # User's budget in INR\n",
    "diet_preference = 'vegetarian'  # User's dietary preference\n",
    "region = 'North'  # User's regional preference\n",
    "\n",
    "suggested_food = suggest_food(budget, diet_preference, region)\n",
    "print(suggested_food)"
   ]
  }
 ],
 "metadata": {
  "kernelspec": {
   "display_name": "base",
   "language": "python",
   "name": "python3"
  },
  "language_info": {
   "codemirror_mode": {
    "name": "ipython",
    "version": 3
   },
   "file_extension": ".py",
   "mimetype": "text/x-python",
   "name": "python",
   "nbconvert_exporter": "python",
   "pygments_lexer": "ipython3",
   "version": "3.11.5"
  }
 },
 "nbformat": 4,
 "nbformat_minor": 2
}
