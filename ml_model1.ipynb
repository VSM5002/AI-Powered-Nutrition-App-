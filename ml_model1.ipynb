{
 "cells": [
  {
   "cell_type": "code",
   "execution_count": 1,
   "metadata": {},
   "outputs": [],
   "source": [
    "import pandas as pd"
   ]
  },
  {
   "cell_type": "code",
   "execution_count": 9,
   "metadata": {},
   "outputs": [],
   "source": [
    "indian_food_data = pd.read_csv('indian_food_data.csv')\n",
    "indian_food = pd.read_csv('indian_food.csv')\n",
    "karnataka_prices = pd.read_csv('karnataka_vegetables.csv')"
   ]
  },
  {
   "cell_type": "code",
   "execution_count": null,
   "metadata": {},
   "outputs": [],
   "source": [
    "indian_food_data['Ingredients'] = indian_food_data['Ingredients'].fillna('')\n",
    "indian_food_data['TranslatedIngredients'] = indian_food_data['TranslatedIngredients'].fillna('')\n",
    "indian_food['ingredients'] = indian_food['ingredients'].fillna('')\n",
    "indian_food['diet'] = indian_food['diet'].fillna('')"
   ]
  },
  {
   "cell_type": "code",
   "execution_count": 27,
   "metadata": {},
   "outputs": [
    {
     "name": "stdout",
     "output_type": "stream",
     "text": [
      "['Diabetic Friendly' 'Vegetarian' 'High Protein Vegetarian'\n",
      " 'Non Vegeterian' 'High Protein Non Vegetarian' 'Eggetarian' 'Vegan'\n",
      " 'No Onion No Garlic (Sattvic)' 'Gluten Free' 'Sugar Free Diet']\n"
     ]
    }
   ],
   "source": [
    "unique_diet_types = indian_food_data['Diet'].unique()\n",
    "print(unique_diet_types)"
   ]
  },
  {
   "cell_type": "code",
   "execution_count": 11,
   "metadata": {},
   "outputs": [],
   "source": [
    "merged_food_data = pd.merge(indian_food_data, indian_food, left_on='TranslatedRecipeName', right_on='name', how='left')"
   ]
  },
  {
   "cell_type": "code",
   "execution_count": 12,
   "metadata": {},
   "outputs": [
    {
     "data": {
      "text/plain": [
       "Index(['Srno', 'Unnamed: 1', 'TranslatedRecipeName', 'Ingredients',\n",
       "       'TranslatedIngredients', 'PrepTimeInMins', 'CookTimeInMins',\n",
       "       'TotalTimeInMins', 'Servings', 'Cuisine', 'Course', 'Diet',\n",
       "       'Instructions', 'TranslatedInstructions', 'URL', 'name', 'ingredients',\n",
       "       'diet', 'prep_time', 'cook_time', 'flavor_profile', 'course', 'state',\n",
       "       'region'],\n",
       "      dtype='object')"
      ]
     },
     "execution_count": 12,
     "metadata": {},
     "output_type": "execute_result"
    }
   ],
   "source": [
    "merged_food_data.columns"
   ]
  },
  {
   "cell_type": "code",
   "execution_count": 15,
   "metadata": {},
   "outputs": [],
   "source": [
    "merged_food_data['diet'] = merged_food_data['diet'].apply(lambda x: 1 if x == 'vegetarian' else 0)"
   ]
  },
  {
   "cell_type": "code",
   "execution_count": 21,
   "metadata": {},
   "outputs": [],
   "source": [
    "merged_food_data['has_diabetes'] = merged_food_data['TranslatedIngredients'].apply(lambda x: 1 if 'sugar' in x.lower() or 'carrot' in x.lower() else 0)  # Example of health-based filtering"
   ]
  },
  {
   "cell_type": "code",
   "execution_count": 23,
   "metadata": {},
   "outputs": [],
   "source": [
    "merged_food_data['recommend'] = merged_food_data['diet'] & (merged_food_data['has_diabetes'] == 0)  # Recommend based on conditions"
   ]
  },
  {
   "cell_type": "code",
   "execution_count": 24,
   "metadata": {},
   "outputs": [
    {
     "name": "stdout",
     "output_type": "stream",
     "text": [
      "   Srno  Unnamed: 1                               TranslatedRecipeName  \\\n",
      "0     1         NaN                               Masala Karela Recipe   \n",
      "1     2         NaN                         Spicy Tomato Rice (Recipe)   \n",
      "2     3         NaN  Ragi Semiya Upma Recipe - Ragi Millet Vermicel...   \n",
      "3     4         NaN  Gongura Chicken Curry Recipe - Andhra Style Go...   \n",
      "4     5         NaN  Andhra Style Alam Pachadi Recipe - Adrak Chutn...   \n",
      "\n",
      "                                         Ingredients  \\\n",
      "0  6 Karela (Bitter Gourd/ Pavakkai) - deseeded,S...   \n",
      "1  2-1/2 ?? ???? - ??? ??,3 ?????,3 ???? ????? ??...   \n",
      "2  1-1/2 cups Rice Vermicelli Noodles (Thin),1 On...   \n",
      "3  500 grams Chicken,2 Onion - chopped,1 Tomato -...   \n",
      "4  1 ??? ????? ??? ???,1 ??? ????? ???? ??? ???,2...   \n",
      "\n",
      "                               TranslatedIngredients  PrepTimeInMins  \\\n",
      "0  6 Karela (Bitter Gourd/ Pavakkai) - deseeded,S...              15   \n",
      "1  2-1 / 2 cups rice - cooked, 3 tomatoes, 3 teas...               5   \n",
      "2  1-1/2 cups Rice Vermicelli Noodles (Thin),1 On...              20   \n",
      "3  500 grams Chicken,2 Onion - chopped,1 Tomato -...              15   \n",
      "4  1 tablespoon chana dal, 1 tablespoon white ura...              10   \n",
      "\n",
      "   CookTimeInMins  TotalTimeInMins  Servings               Cuisine  ...  \\\n",
      "0              30               45         6                Indian  ...   \n",
      "1              10               15         3  South Indian Recipes  ...   \n",
      "2              30               50         4  South Indian Recipes  ...   \n",
      "3              30               45         4                Andhra  ...   \n",
      "4              20               30         4                Andhra  ...   \n",
      "\n",
      "  ingredients diet prep_time cook_time flavor_profile course state  region  \\\n",
      "0         NaN    0       NaN       NaN            NaN    NaN   NaN     NaN   \n",
      "1         NaN    0       NaN       NaN            NaN    NaN   NaN     NaN   \n",
      "2         NaN    0       NaN       NaN            NaN    NaN   NaN     NaN   \n",
      "3         NaN    0       NaN       NaN            NaN    NaN   NaN     NaN   \n",
      "4         NaN    0       NaN       NaN            NaN    NaN   NaN     NaN   \n",
      "\n",
      "   has_diabetes  recommend  \n",
      "0             0      False  \n",
      "1             0      False  \n",
      "2             1      False  \n",
      "3             0      False  \n",
      "4             0      False  \n",
      "\n",
      "[5 rows x 26 columns]\n"
     ]
    }
   ],
   "source": [
    "print(merged_food_data.head())"
   ]
  }
 ],
 "metadata": {
  "kernelspec": {
   "display_name": "base",
   "language": "python",
   "name": "python3"
  },
  "language_info": {
   "codemirror_mode": {
    "name": "ipython",
    "version": 3
   },
   "file_extension": ".py",
   "mimetype": "text/x-python",
   "name": "python",
   "nbconvert_exporter": "python",
   "pygments_lexer": "ipython3",
   "version": "3.11.5"
  }
 },
 "nbformat": 4,
 "nbformat_minor": 2
}
